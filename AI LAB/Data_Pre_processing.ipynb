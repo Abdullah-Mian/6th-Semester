{
  "metadata": {
    "kernelspec": {
      "display_name": "Python 3",
      "name": "python3"
    },
    "language_info": {
      "name": "python",
      "version": "3.7.6",
      "mimetype": "text/x-python",
      "codemirror_mode": {
        "name": "ipython",
        "version": 3
      },
      "pygments_lexer": "ipython3",
      "nbconvert_exporter": "python",
      "file_extension": ".py"
    },
    "kaggle": {
      "accelerator": "none",
      "dataSources": [
        {
          "sourceId": 1434847,
          "sourceType": "datasetVersion",
          "datasetId": 840599
        },
        {
          "sourceId": 8978479,
          "sourceType": "datasetVersion",
          "datasetId": 5406347
        }
      ],
      "dockerImageVersionId": 29994,
      "isInternetEnabled": true,
      "language": "python",
      "sourceType": "notebook",
      "isGpuEnabled": false
    },
    "colab": {
      "provenance": []
    }
  },
  "nbformat_minor": 0,
  "nbformat": 4,
  "cells": [
    {
      "cell_type": "markdown",
      "source": [
        "# Data Preprocessing Tools"
      ],
      "metadata": {
        "id": "37puETfgRzzg"
      }
    },
    {
      "cell_type": "markdown",
      "source": [
        "## Importing the libraries"
      ],
      "metadata": {
        "id": "EoRP98MpR-qj"
      }
    },
    {
      "cell_type": "code",
      "source": [
        "import numpy as np\n",
        "import matplotlib.pyplot as plt\n",
        "import pandas as pd"
      ],
      "metadata": {
        "id": "N-qiINBQSK2g",
        "execution": {
          "iopub.status.busy": "2024-07-17T19:41:43.400899Z",
          "iopub.execute_input": "2024-07-17T19:41:43.401323Z",
          "iopub.status.idle": "2024-07-17T19:41:43.407027Z",
          "shell.execute_reply.started": "2024-07-17T19:41:43.401285Z",
          "shell.execute_reply": "2024-07-17T19:41:43.4057Z"
        },
        "trusted": true
      },
      "execution_count": 1,
      "outputs": []
    },
    {
      "cell_type": "markdown",
      "source": [
        "## Importing the dataset"
      ],
      "metadata": {
        "id": "RopL7tUZSQkT"
      }
    },
    {
      "cell_type": "code",
      "source": [
        "dataset = pd.read_excel('/content/Data.xlsx')\n",
        "X = dataset.iloc[:, :-1].values\n",
        "y = dataset.iloc[:, -1].values\n"
      ],
      "metadata": {
        "id": "kQlZPoJuBFwV"
      },
      "execution_count": 2,
      "outputs": []
    },
    {
      "cell_type": "code",
      "source": [
        "print(X)"
      ],
      "metadata": {
        "id": "hCsz2yCebe1R",
        "outputId": "49a6e419-9dab-4832-aae6-c3d36c6ba436",
        "execution": {
          "iopub.status.busy": "2024-07-17T19:50:10.110906Z",
          "iopub.execute_input": "2024-07-17T19:50:10.111361Z",
          "iopub.status.idle": "2024-07-17T19:50:10.117714Z",
          "shell.execute_reply.started": "2024-07-17T19:50:10.111316Z",
          "shell.execute_reply": "2024-07-17T19:50:10.116689Z"
        },
        "trusted": true,
        "colab": {
          "base_uri": "https://localhost:8080/"
        }
      },
      "execution_count": 3,
      "outputs": [
        {
          "output_type": "stream",
          "name": "stdout",
          "text": [
            "[['France' 48.0 72000.0]\n",
            " ['Spain' 27.0 48000.0]\n",
            " ['Germany' 15.0 54000.0]\n",
            " ['Spain' 38.0 20000.0]\n",
            " ['Germany' 40.0 nan]\n",
            " ['France' 35.0 58000.0]\n",
            " ['Spain' nan 40000.0]\n",
            " ['France' 48.0 79000.0]\n",
            " ['Germany' 50.0 83000.0]\n",
            " ['France' 37.0 67000.0]]\n"
          ]
        }
      ]
    },
    {
      "cell_type": "code",
      "source": [
        "print(y)"
      ],
      "metadata": {
        "id": "eYrOQ43XcJR3",
        "outputId": "6f616c09-22b5-407f-9b27-3d9f800941d2",
        "execution": {
          "iopub.status.busy": "2024-07-17T19:50:18.730594Z",
          "iopub.execute_input": "2024-07-17T19:50:18.731025Z",
          "iopub.status.idle": "2024-07-17T19:50:18.736554Z",
          "shell.execute_reply.started": "2024-07-17T19:50:18.730982Z",
          "shell.execute_reply": "2024-07-17T19:50:18.735366Z"
        },
        "trusted": true,
        "colab": {
          "base_uri": "https://localhost:8080/"
        }
      },
      "execution_count": 4,
      "outputs": [
        {
          "output_type": "stream",
          "name": "stdout",
          "text": [
            "['No' 'Yes' 'No' 'No' 'Yes' 'Yes' 'No' 'Yes' 'No' 'Yes']\n"
          ]
        }
      ]
    },
    {
      "cell_type": "markdown",
      "source": [
        "## Taking care of missing data"
      ],
      "metadata": {
        "id": "nhfKXNxlSabC"
      }
    },
    {
      "cell_type": "code",
      "source": [
        "from sklearn.impute import SimpleImputer\n",
        "imputer = SimpleImputer(missing_values=np.nan, strategy='mean')\n",
        "imputer.fit(X[:, 1:3])\n",
        "X[:, 1:3] = imputer.transform(X[:, 1:3])"
      ],
      "metadata": {
        "id": "c93k7ipkSexq",
        "execution": {
          "iopub.status.busy": "2024-07-17T19:57:16.9143Z",
          "iopub.execute_input": "2024-07-17T19:57:16.914692Z",
          "iopub.status.idle": "2024-07-17T19:57:16.943362Z",
          "shell.execute_reply.started": "2024-07-17T19:57:16.914657Z",
          "shell.execute_reply": "2024-07-17T19:57:16.941206Z"
        },
        "trusted": true
      },
      "execution_count": 5,
      "outputs": []
    },
    {
      "cell_type": "code",
      "source": [
        "print(X)"
      ],
      "metadata": {
        "id": "3UgLdMS_bjq_",
        "outputId": "c8f7d074-19f4-4df0-c37a-cb8267d9b479",
        "execution": {
          "iopub.status.busy": "2024-07-17T19:50:30.653383Z",
          "iopub.execute_input": "2024-07-17T19:50:30.653864Z",
          "iopub.status.idle": "2024-07-17T19:50:30.660035Z",
          "shell.execute_reply.started": "2024-07-17T19:50:30.653822Z",
          "shell.execute_reply": "2024-07-17T19:50:30.658667Z"
        },
        "trusted": true,
        "colab": {
          "base_uri": "https://localhost:8080/"
        }
      },
      "execution_count": 8,
      "outputs": [
        {
          "output_type": "stream",
          "name": "stdout",
          "text": [
            "[[1.0 0.0 0.0 48.0 72000.0]\n",
            " [0.0 0.0 1.0 27.0 48000.0]\n",
            " [0.0 1.0 0.0 15.0 54000.0]\n",
            " [0.0 0.0 1.0 38.0 20000.0]\n",
            " [0.0 1.0 0.0 40.0 57888.88888888889]\n",
            " [1.0 0.0 0.0 35.0 58000.0]\n",
            " [0.0 0.0 1.0 37.55555555555556 40000.0]\n",
            " [1.0 0.0 0.0 48.0 79000.0]\n",
            " [0.0 1.0 0.0 50.0 83000.0]\n",
            " [1.0 0.0 0.0 37.0 67000.0]]\n"
          ]
        }
      ]
    },
    {
      "cell_type": "markdown",
      "source": [
        "## Encoding categorical data"
      ],
      "metadata": {
        "id": "CriG6VzVSjcK"
      }
    },
    {
      "cell_type": "markdown",
      "source": [
        "### Encoding the Independent Variable"
      ],
      "metadata": {
        "id": "AhSpdQWeSsFh"
      }
    },
    {
      "cell_type": "code",
      "source": [
        "from sklearn.compose import ColumnTransformer\n",
        "from sklearn.preprocessing import OneHotEncoder\n",
        "ct = ColumnTransformer(transformers=[('encoder', OneHotEncoder(), [0])], remainder='passthrough')\n",
        "X = np.array(ct.fit_transform(X))\n",
        "#X = ct.fit_transform(X)"
      ],
      "metadata": {
        "id": "5hwuVddlSwVi"
      },
      "execution_count": 6,
      "outputs": []
    },
    {
      "cell_type": "code",
      "source": [
        "print(X)"
      ],
      "metadata": {
        "id": "f7QspewyeBfx",
        "outputId": "2a60acf5-52d2-4f52-d8d0-b8b3eaa1e079",
        "colab": {
          "base_uri": "https://localhost:8080/"
        }
      },
      "execution_count": 9,
      "outputs": [
        {
          "output_type": "stream",
          "name": "stdout",
          "text": [
            "[[1.0 0.0 0.0 48.0 72000.0]\n",
            " [0.0 0.0 1.0 27.0 48000.0]\n",
            " [0.0 1.0 0.0 15.0 54000.0]\n",
            " [0.0 0.0 1.0 38.0 20000.0]\n",
            " [0.0 1.0 0.0 40.0 57888.88888888889]\n",
            " [1.0 0.0 0.0 35.0 58000.0]\n",
            " [0.0 0.0 1.0 37.55555555555556 40000.0]\n",
            " [1.0 0.0 0.0 48.0 79000.0]\n",
            " [0.0 1.0 0.0 50.0 83000.0]\n",
            " [1.0 0.0 0.0 37.0 67000.0]]\n"
          ]
        }
      ]
    },
    {
      "cell_type": "markdown",
      "source": [
        "### Encoding the Dependent Variable"
      ],
      "metadata": {
        "id": "DXh8oVSITIc6"
      }
    },
    {
      "cell_type": "code",
      "source": [
        "from sklearn.preprocessing import LabelEncoder\n",
        "le = LabelEncoder()\n",
        "y = le.fit_transform(y)"
      ],
      "metadata": {
        "id": "XgHCShVyTOYY"
      },
      "execution_count": 10,
      "outputs": []
    },
    {
      "cell_type": "code",
      "source": [
        "print(y)"
      ],
      "metadata": {
        "id": "FyhY8-gPpFCa",
        "outputId": "bc5d0262-1115-42b8-c7c0-0853c908b76f",
        "colab": {
          "base_uri": "https://localhost:8080/"
        }
      },
      "execution_count": 11,
      "outputs": [
        {
          "output_type": "stream",
          "name": "stdout",
          "text": [
            "[0 1 0 0 1 1 0 1 0 1]\n"
          ]
        }
      ]
    },
    {
      "cell_type": "markdown",
      "source": [
        "## Splitting the dataset into the Training set and Test set"
      ],
      "metadata": {
        "id": "qb_vcgm3qZKW"
      }
    },
    {
      "cell_type": "code",
      "source": [
        "from sklearn.model_selection import train_test_split\n",
        "X_train, X_test, y_train, y_test = train_test_split(X, y, test_size = 0.2, random_state = 1)"
      ],
      "metadata": {
        "id": "pXgA6CzlqbCl"
      },
      "execution_count": 12,
      "outputs": []
    },
    {
      "cell_type": "code",
      "source": [
        "print(X_train)"
      ],
      "metadata": {
        "id": "GuwQhFdKrYTM",
        "outputId": "e800dded-59c6-44e9-9975-ac9f67bb7684",
        "colab": {
          "base_uri": "https://localhost:8080/"
        }
      },
      "execution_count": 13,
      "outputs": [
        {
          "output_type": "stream",
          "name": "stdout",
          "text": [
            "[[0.0 0.0 1.0 37.55555555555556 40000.0]\n",
            " [0.0 1.0 0.0 40.0 57888.88888888889]\n",
            " [1.0 0.0 0.0 48.0 72000.0]\n",
            " [0.0 0.0 1.0 38.0 20000.0]\n",
            " [0.0 0.0 1.0 27.0 48000.0]\n",
            " [1.0 0.0 0.0 48.0 79000.0]\n",
            " [0.0 1.0 0.0 50.0 83000.0]\n",
            " [1.0 0.0 0.0 35.0 58000.0]]\n"
          ]
        }
      ]
    },
    {
      "cell_type": "code",
      "source": [
        "print(X_test)"
      ],
      "metadata": {
        "id": "TUrX_Tvcrbi4",
        "outputId": "2a53d6b8-3307-4ae6-d5f2-4524c74a4149",
        "colab": {
          "base_uri": "https://localhost:8080/"
        }
      },
      "execution_count": 14,
      "outputs": [
        {
          "output_type": "stream",
          "name": "stdout",
          "text": [
            "[[0.0 1.0 0.0 15.0 54000.0]\n",
            " [1.0 0.0 0.0 37.0 67000.0]]\n"
          ]
        }
      ]
    },
    {
      "cell_type": "code",
      "source": [
        "print(y_train)"
      ],
      "metadata": {
        "id": "pSMHiIsWreQY",
        "outputId": "bebcfc2c-bdc5-4318-a066-53fef20c0f48",
        "colab": {
          "base_uri": "https://localhost:8080/"
        }
      },
      "execution_count": null,
      "outputs": [
        {
          "output_type": "stream",
          "name": "stdout",
          "text": [
            "[0 1 0 0 1 1 0 1]\n"
          ]
        }
      ]
    },
    {
      "cell_type": "code",
      "source": [
        "print(y_test)"
      ],
      "metadata": {
        "id": "I_tW7H56rgtW",
        "outputId": "520dd452-f791-4fcc-f855-cbb3c0772235",
        "colab": {
          "base_uri": "https://localhost:8080/"
        }
      },
      "execution_count": null,
      "outputs": [
        {
          "output_type": "stream",
          "name": "stdout",
          "text": [
            "[0 1]\n"
          ]
        }
      ]
    },
    {
      "cell_type": "markdown",
      "source": [
        "## Feature Scaling"
      ],
      "metadata": {
        "id": "TpGqbS4TqkIR"
      }
    },
    {
      "cell_type": "code",
      "source": [
        "from sklearn.preprocessing import StandardScaler\n",
        "sc = StandardScaler()\n",
        "X_train[:, 3:] = sc.fit_transform(X_train[:, 3:])\n",
        "X_test[:, 3:] = sc.transform(X_test[:, 3:])"
      ],
      "metadata": {
        "id": "AxjSUXFQqo-3"
      },
      "execution_count": 16,
      "outputs": []
    },
    {
      "cell_type": "code",
      "source": [
        "print(X_train)"
      ],
      "metadata": {
        "id": "DWPET8ZdlMnu",
        "outputId": "b4e7a036-4f8c-4f57-f6ae-748e49e8c700",
        "colab": {
          "base_uri": "https://localhost:8080/"
        }
      },
      "execution_count": 17,
      "outputs": [
        {
          "output_type": "stream",
          "name": "stdout",
          "text": [
            "[[0.0 0.0 1.0 -0.39386028623867836 -0.8720378912458752]\n",
            " [0.0 1.0 0.0 -0.060593890190565755 0.03302641489811147]\n",
            " [1.0 0.0 0.0 1.0300961332396217 0.7469591284402622]\n",
            " [0.0 0.0 1.0 -0.3332663960481126 -1.883911028549711]\n",
            " [0.0 0.0 1.0 -1.8329651782646204 -0.46728863632434076]\n",
            " [1.0 0.0 0.0 1.0300961332396217 1.1011147264966048]\n",
            " [0.0 1.0 0.0 1.3027686390971684 1.303489353957372]\n",
            " [1.0 0.0 0.0 -0.742275154834433 0.03864793232757714]]\n"
          ]
        }
      ]
    },
    {
      "cell_type": "code",
      "source": [
        "print(X_test)"
      ],
      "metadata": {
        "id": "sTXykB_QlRjE",
        "outputId": "bd9b89cc-2487-43c1-9e84-e696898587ed",
        "colab": {
          "base_uri": "https://localhost:8080/"
        }
      },
      "execution_count": 18,
      "outputs": [
        {
          "output_type": "stream",
          "name": "stdout",
          "text": [
            "[[0.0 1.0 0.0 -3.4690002134099016 -0.16372669513319002]\n",
            " [1.0 0.0 0.0 -0.46960264897688603 0.4939908441143033]]\n"
          ]
        }
      ]
    }
  ]
}